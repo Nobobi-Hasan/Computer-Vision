{
 "cells": [
  {
   "cell_type": "code",
   "execution_count": null,
   "metadata": {},
   "outputs": [],
   "source": [
    "import cv2\n",
    "import numpy as np\n",
    "\n",
    "drawing = False\n",
    "pt1,pt2 = -1, -1\n",
    "\n",
    "def draw_circle(event,x,y,flags,param):\n",
    "        \n",
    "    global drawing, pt1 ,pt2\n",
    "    \n",
    "    if event == cv2.EVENT_LBUTTONDOWN:\n",
    "        pt1 = (x,y)\n",
    "        drawing = True\n",
    "        \n",
    "    elif event == cv2.EVENT_MOUSEMOVE:\n",
    "        pt2 = (x,y)\n",
    "        \n",
    "        if drawing == True:\n",
    "            cv2.rectangle(img,pt1,pt2,color=(0,255,0),thickness=-2)\n",
    "        \n",
    "    elif event == cv2.EVENT_LBUTTONUP:\n",
    "        drawing = False\n",
    "\n",
    "cv2.namedWindow(winname=\"my_drawing\")\n",
    "\n",
    "cv2.setMouseCallback(\"my_drawing\", draw_circle)\n",
    "\n",
    "\n",
    "# img = np.zeros((512,512,3), np.int8)\n",
    "img = np.zeros((512,512,3))\n",
    "\n",
    "while True:\n",
    "    cv2.imshow(\"my_drawing\",img)   \n",
    "    if cv2.waitKey(20) & 0xFF == 27:  # If we've waited at least 1ms AND pressed the Esc\n",
    "        break\n",
    "        \n",
    "cv2.destroyAllWindows()"
   ]
  },
  {
   "cell_type": "code",
   "execution_count": null,
   "metadata": {},
   "outputs": [],
   "source": []
  }
 ],
 "metadata": {
  "kernelspec": {
   "display_name": "Python 3",
   "language": "python",
   "name": "python3"
  },
  "language_info": {
   "codemirror_mode": {
    "name": "ipython",
    "version": 3
   },
   "file_extension": ".py",
   "mimetype": "text/x-python",
   "name": "python",
   "nbconvert_exporter": "python",
   "pygments_lexer": "ipython3",
   "version": "3.6.6"
  }
 },
 "nbformat": 4,
 "nbformat_minor": 2
}
