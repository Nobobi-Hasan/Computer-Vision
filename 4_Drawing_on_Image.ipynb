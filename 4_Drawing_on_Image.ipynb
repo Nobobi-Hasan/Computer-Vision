{
 "cells": [
  {
   "cell_type": "code",
   "execution_count": 1,
   "metadata": {},
   "outputs": [],
   "source": [
    "import cv2\n",
    "import numpy as np\n",
    "import matplotlib.pyplot as plt\n",
    "%matplotlib inline"
   ]
  },
  {
   "cell_type": "code",
   "execution_count": 2,
   "metadata": {},
   "outputs": [],
   "source": [
    "blank_img = np.zeros((512,512,3), np.int16)"
   ]
  },
  {
   "cell_type": "code",
   "execution_count": 3,
   "metadata": {},
   "outputs": [
    {
     "data": {
      "text/plain": [
       "(512, 512, 3)"
      ]
     },
     "execution_count": 3,
     "metadata": {},
     "output_type": "execute_result"
    }
   ],
   "source": [
    "blank_img.shape"
   ]
  },
  {
   "cell_type": "code",
   "execution_count": 4,
   "metadata": {},
   "outputs": [
    {
     "data": {
      "text/plain": [
       "<matplotlib.image.AxesImage at 0x1242508cc88>"
      ]
     },
     "execution_count": 4,
     "metadata": {},
     "output_type": "execute_result"
    },
    {
     "data": {
      "image/png": "[encoded data removed]",
      "text/plain": [
       "<Figure size 432x288 with 1 Axes>"
      ]
     },
     "metadata": {
      "needs_background": "light"
     },
     "output_type": "display_data"
    }
   ],
   "source": [
    "plt.imshow(blank_img)"
   ]
  },
  {
   "cell_type": "code",
   "execution_count": 5,
   "metadata": {},
   "outputs": [
    {
     "data": {
      "text/plain": [
       "<matplotlib.image.AxesImage at 0x124252a9860>"
      ]
     },
     "execution_count": 5,
     "metadata": {},
     "output_type": "execute_result"
    },
    {
     "data": {
      "image/png": "[encoded data removed]",
      "text/plain": [
       "<Figure size 432x288 with 1 Axes>"
      ]
     },
     "metadata": {
      "needs_background": "light"
     },
     "output_type": "display_data"
    }
   ],
   "source": [
    "rec_img = blank_img.copy()\n",
    "rec_img = cv2.rectangle(rec_img,pt1=(100,100),pt2=(300,200),color=(0,255,0),thickness=2)\n",
    "plt.imshow(rec_img)"
   ]
  },
  {
   "cell_type": "code",
   "execution_count": 6,
   "metadata": {},
   "outputs": [
    {
     "data": {
      "text/plain": [
       "<matplotlib.image.AxesImage at 0x12425317860>"
      ]
     },
     "execution_count": 6,
     "metadata": {},
     "output_type": "execute_result"
    },
    {
     "data": {
      "image/png": "[encoded data removed]",
      "text/plain": [
       "<Figure size 432x288 with 1 Axes>"
      ]
     },
     "metadata": {
      "needs_background": "light"
     },
     "output_type": "display_data"
    }
   ],
   "source": [
    "cir_img = blank_img.copy()\n",
    "cir_img = cv2.circle(cir_img,center=(250,100),radius=60,color=(255,0,0),thickness=5,lineType=cv2.LINE_AA)\n",
    "cir_img = cv2.circle(cir_img,center=(250,100),radius=50,color=(255,0,0),thickness=-5,lineType=cv2.LINE_AA)\n",
    "\n",
    "cir_img = cv2.circle(cir_img,center=(250,250),radius=60,color=(255,255,0),thickness=5,lineType=cv2.LINE_AA)\n",
    "cir_img = cv2.circle(cir_img,center=(250,250),radius=50,color=(255,255,0),thickness=-5,lineType=cv2.LINE_AA)\n",
    "\n",
    "cir_img = cv2.circle(cir_img,center=(250,400),radius=60,color=(0,255,0),thickness=5,lineType=cv2.LINE_AA)\n",
    "cir_img = cv2.circle(cir_img,center=(250,400),radius=50,color=(0,255,0),thickness=-5,lineType=cv2.LINE_AA)\n",
    "\n",
    "plt.imshow(cir_img)"
   ]
  },
  {
   "cell_type": "code",
   "execution_count": 17,
   "metadata": {},
   "outputs": [
    {
     "data": {
      "text/plain": [
       "<matplotlib.image.AxesImage at 0x1242585b1d0>"
      ]
     },
     "execution_count": 17,
     "metadata": {},
     "output_type": "execute_result"
    },
    {
     "data": {
      "image/png": "[encoded data removed]",
      "text/plain": [
       "<Figure size 432x288 with 1 Axes>"
      ]
     },
     "metadata": {
      "needs_background": "light"
     },
     "output_type": "display_data"
    }
   ],
   "source": [
    "line_img = blank_img.copy()\n",
    "line_img = cv2.line(line_img,pt1=(100,400),pt2=(100,100),color=(0,255,0),thickness=5)\n",
    "line_img = cv2.line(line_img,pt1=(250,400),pt2=(250,100),color=(0,255,0),thickness=5)\n",
    "line_img = cv2.line(line_img,pt1=(100,250),pt2=(250,250),color=(0,255,0),thickness=5)\n",
    "\n",
    "line_img = cv2.line(line_img,pt1=(400,400),pt2=(400,240),color=(0,255,0),thickness=5)\n",
    "line_img = cv2.line(line_img,pt1=(400,200),pt2=(400,210),color=(0,255,0),thickness=5)\n",
    "\n",
    "plt.imshow(line_img)"
   ]
  },
  {
   "cell_type": "code",
   "execution_count": null,
   "metadata": {},
   "outputs": [],
   "source": []
  },
  {
   "cell_type": "code",
   "execution_count": null,
   "metadata": {},
   "outputs": [],
   "source": []
  }
 ],
 "metadata": {
  "kernelspec": {
   "display_name": "Python 3",
   "language": "python",
   "name": "python3"
  },
  "language_info": {
   "codemirror_mode": {
    "name": "ipython",
    "version": 3
   },
   "file_extension": ".py",
   "mimetype": "text/x-python",
   "name": "python",
   "nbconvert_exporter": "python",
   "pygments_lexer": "ipython3",
   "version": "3.6.6"
  }
 },
 "nbformat": 4,
 "nbformat_minor": 2
}
